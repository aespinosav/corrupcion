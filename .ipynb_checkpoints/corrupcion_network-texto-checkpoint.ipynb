{
 "metadata": {
  "name": "",
  "signature": "sha256:bd4493b989262211e0524391dd55292514ae096eeeb8353faee1e75f5817bfe9"
 },
 "nbformat": 3,
 "nbformat_minor": 0,
 "worksheets": [
  {
   "cells": [
    {
     "cell_type": "code",
     "collapsed": false,
     "input": [
      "import numpy as np\n",
      "import networkx as nx\n",
      "import matplotlib.pyplot as plt\n",
      "from pylab import *\n",
      "from IPython.display import display\n",
      "from IPython.display import Latex\n",
      "from IPython.display import Math\n",
      "%matplotlib inline "
     ],
     "language": "python",
     "metadata": {},
     "outputs": [],
     "prompt_number": 28
    },
    {
     "cell_type": "heading",
     "level": 1,
     "metadata": {},
     "source": [
      "Modelo de corrupci\u00f3n en una red jer\u00e1rquica"
     ]
    },
    {
     "cell_type": "code",
     "collapsed": false,
     "input": [
      "%%latex\n",
      "Se utiliza una red jer\u00e1rquica representada por un \u00e1rbol con\n",
      "factor de crecimiento $b$ (elementos subordinados) y $h$ niveles jer\u00e1rquicos"
     ],
     "language": "python",
     "metadata": {},
     "outputs": [
      {
       "latex": [
        "Se utiliza una red jer\u00e1rquica representada por un \u00e1rbol con\n",
        "factor de crecimiento $b$ (elementos subordinados) y $h$ niveles jer\u00e1rquicos"
       ],
       "metadata": {},
       "output_type": "display_data",
       "text": [
        "<IPython.core.display.Latex at 0x107584ac8>"
       ]
      }
     ],
     "prompt_number": 29
    },
    {
     "cell_type": "code",
     "collapsed": false,
     "input": [
      "branching_factor = 3.0\n",
      "height = 3.0"
     ],
     "language": "python",
     "metadata": {},
     "outputs": [],
     "prompt_number": 30
    },
    {
     "cell_type": "heading",
     "level": 3,
     "metadata": {},
     "source": [
      "Construcci\u00f3n de la red"
     ]
    },
    {
     "cell_type": "code",
     "collapsed": false,
     "input": [
      "g = nx.balanced_tree(int(branching_factor), int(height))"
     ],
     "language": "python",
     "metadata": {},
     "outputs": [],
     "prompt_number": 31
    },
    {
     "cell_type": "code",
     "collapsed": false,
     "input": [
      "g2 = nx.DiGraph(g)"
     ],
     "language": "python",
     "metadata": {},
     "outputs": [],
     "prompt_number": 32
    },
    {
     "cell_type": "code",
     "collapsed": false,
     "input": [
      "A = nx.adj_matrix(g2)\n",
      "type(A)"
     ],
     "language": "python",
     "metadata": {},
     "outputs": [
      {
       "metadata": {},
       "output_type": "pyout",
       "prompt_number": 33,
       "text": [
        "scipy.sparse.csr.csr_matrix"
       ]
      }
     ],
     "prompt_number": 33
    },
    {
     "cell_type": "code",
     "collapsed": false,
     "input": [
      "for i in range(A.shape[0]):\n",
      "    for j in range(A.shape[1]):\n",
      "        if i > j:\n",
      "            A[i,j] = 0"
     ],
     "language": "python",
     "metadata": {},
     "outputs": [],
     "prompt_number": 34
    },
    {
     "cell_type": "code",
     "collapsed": false,
     "input": [
      "#print (A)"
     ],
     "language": "python",
     "metadata": {},
     "outputs": [
      {
       "output_type": "stream",
       "stream": "stdout",
       "text": [
        "  (0, 1)\t1\n",
        "  (0, 2)\t1\n",
        "  (0, 3)\t1\n",
        "  (1, 0)\t0\n",
        "  (1, 4)\t1\n",
        "  (1, 5)\t1\n",
        "  (1, 6)\t1\n",
        "  (2, 1)\t0\n",
        "  (2, 0)\t0\n",
        "  (2, 7)\t1\n",
        "  (2, 8)\t1\n",
        "  (2, 9)\t1\n",
        "  (3, 2)\t0\n",
        "  (3, 1)\t0\n",
        "  (3, 0)\t0\n",
        "  (3, 10)\t1\n",
        "  (3, 11)\t1\n",
        "  (3, 12)\t1\n",
        "  (4, 3)\t0\n",
        "  (4, 2)\t0\n",
        "  (4, 0)\t0\n",
        "  (4, 1)\t0\n",
        "  (4, 13)\t1\n",
        "  (4, 14)\t1\n",
        "  (4, 15)\t1\n",
        "  :\t:\n",
        "  (39, 24)\t0\n",
        "  (39, 23)\t0\n",
        "  (39, 22)\t0\n",
        "  (39, 21)\t0\n",
        "  (39, 20)\t0\n",
        "  (39, 19)\t0\n",
        "  (39, 18)\t0\n",
        "  (39, 17)\t0\n",
        "  (39, 16)\t0\n",
        "  (39, 15)\t0\n",
        "  (39, 14)\t0\n",
        "  (39, 13)\t0\n",
        "  (39, 11)\t0\n",
        "  (39, 10)\t0\n",
        "  (39, 9)\t0\n",
        "  (39, 8)\t0\n",
        "  (39, 7)\t0\n",
        "  (39, 6)\t0\n",
        "  (39, 5)\t0\n",
        "  (39, 4)\t0\n",
        "  (39, 3)\t0\n",
        "  (39, 2)\t0\n",
        "  (39, 1)\t0\n",
        "  (39, 0)\t0\n",
        "  (39, 12)\t0\n"
       ]
      }
     ],
     "prompt_number": 35
    },
    {
     "cell_type": "code",
     "collapsed": false,
     "input": [
      "g = nx.DiGraph(A)"
     ],
     "language": "python",
     "metadata": {},
     "outputs": [],
     "prompt_number": 36
    },
    {
     "cell_type": "heading",
     "level": 3,
     "metadata": {},
     "source": [
      "C\u00e1lculo del nivel jer\u00e1rquico en funci\u00f3n del \u00edndice del nodo"
     ]
    },
    {
     "cell_type": "code",
     "collapsed": false,
     "input": [
      "def actual_level(index, branching):\n",
      "    l = np.floor(np.log(index*(branching -1) +1) / np.log(branching))\n",
      "    return l"
     ],
     "language": "python",
     "metadata": {},
     "outputs": [],
     "prompt_number": 37
    },
    {
     "cell_type": "heading",
     "level": 3,
     "metadata": {},
     "source": [
      "Definici\u00f3n de la clase Nodo"
     ]
    },
    {
     "cell_type": "code",
     "collapsed": false,
     "input": [
      "def umbral(j, u_max):\n",
      "    global height    \n",
      "    u = -j*(2*u_max -1)/float(height) + u_max\n",
      "    return u"
     ],
     "language": "python",
     "metadata": {},
     "outputs": [],
     "prompt_number": 38
    },
    {
     "cell_type": "code",
     "collapsed": false,
     "input": [
      "for i in range(len(g.nodes())):\n",
      "    #actual_level = i branching_factor**level\n",
      "    #level_pop =\n",
      "    #j = int(np.ceil(i/branching_factor))\n",
      "    \n",
      "    j = actual_level(i, branching_factor)\n",
      "    g.node[i]['j'] = j\n",
      "    g.node[i]['c'] = np.random.uniform(0,1)\n",
      "    g.node[i]['u'] = umbral(j, 0.9)"
     ],
     "language": "python",
     "metadata": {},
     "outputs": [],
     "prompt_number": 39
    },
    {
     "cell_type": "code",
     "collapsed": false,
     "input": [
      "g.nodes(data=True)"
     ],
     "language": "python",
     "metadata": {},
     "outputs": [
      {
       "metadata": {},
       "output_type": "pyout",
       "prompt_number": 40,
       "text": [
        "[(0, {'c': 0.23073126996093318, 'u': 0.90000000000000002, 'j': 0.0}),\n",
        " (1, {'c': 0.9649818983180115, 'u': 0.6333333333333333, 'j': 1.0}),\n",
        " (2, {'c': 0.39909534590731044, 'u': 0.6333333333333333, 'j': 1.0}),\n",
        " (3, {'c': 0.8970130510791768, 'u': 0.6333333333333333, 'j': 1.0}),\n",
        " (4, {'c': 0.5543622722907859, 'u': 0.3666666666666667, 'j': 2.0}),\n",
        " (5, {'c': 0.13362618001160242, 'u': 0.3666666666666667, 'j': 2.0}),\n",
        " (6, {'c': 0.06414024953788111, 'u': 0.3666666666666667, 'j': 2.0}),\n",
        " (7, {'c': 0.4841581877786584, 'u': 0.3666666666666667, 'j': 2.0}),\n",
        " (8, {'c': 0.7605577882239639, 'u': 0.3666666666666667, 'j': 2.0}),\n",
        " (9, {'c': 0.6499622296575924, 'u': 0.3666666666666667, 'j': 2.0}),\n",
        " (10, {'c': 0.7491553413511765, 'u': 0.3666666666666667, 'j': 2.0}),\n",
        " (11, {'c': 0.4707224940705427, 'u': 0.3666666666666667, 'j': 2.0}),\n",
        " (12, {'c': 0.7158540017530072, 'u': 0.3666666666666667, 'j': 2.0}),\n",
        " (13, {'c': 0.7440116088611215, 'u': 0.099999999999999867, 'j': 3.0}),\n",
        " (14, {'c': 0.5466222106707104, 'u': 0.099999999999999867, 'j': 3.0}),\n",
        " (15, {'c': 0.21840978296609037, 'u': 0.099999999999999867, 'j': 3.0}),\n",
        " (16, {'c': 0.06561513395589269, 'u': 0.099999999999999867, 'j': 3.0}),\n",
        " (17, {'c': 0.9281006465380883, 'u': 0.099999999999999867, 'j': 3.0}),\n",
        " (18, {'c': 0.2784856298210613, 'u': 0.099999999999999867, 'j': 3.0}),\n",
        " (19, {'c': 0.94207787389665, 'u': 0.099999999999999867, 'j': 3.0}),\n",
        " (20, {'c': 0.02456468709315829, 'u': 0.099999999999999867, 'j': 3.0}),\n",
        " (21, {'c': 0.35790001107348135, 'u': 0.099999999999999867, 'j': 3.0}),\n",
        " (22, {'c': 0.7617863789989651, 'u': 0.099999999999999867, 'j': 3.0}),\n",
        " (23, {'c': 0.19187646590590912, 'u': 0.099999999999999867, 'j': 3.0}),\n",
        " (24, {'c': 0.934931376824848, 'u': 0.099999999999999867, 'j': 3.0}),\n",
        " (25, {'c': 0.18129153415007304, 'u': 0.099999999999999867, 'j': 3.0}),\n",
        " (26, {'c': 0.30602925411565995, 'u': 0.099999999999999867, 'j': 3.0}),\n",
        " (27, {'c': 0.7176801036684757, 'u': 0.099999999999999867, 'j': 3.0}),\n",
        " (28, {'c': 0.6240103306307663, 'u': 0.099999999999999867, 'j': 3.0}),\n",
        " (29, {'c': 0.738782095945993, 'u': 0.099999999999999867, 'j': 3.0}),\n",
        " (30, {'c': 0.8046197899823723, 'u': 0.099999999999999867, 'j': 3.0}),\n",
        " (31, {'c': 0.16507210854923016, 'u': 0.099999999999999867, 'j': 3.0}),\n",
        " (32, {'c': 0.19617315895639564, 'u': 0.099999999999999867, 'j': 3.0}),\n",
        " (33, {'c': 0.9881113066497423, 'u': 0.099999999999999867, 'j': 3.0}),\n",
        " (34, {'c': 0.09654790051780715, 'u': 0.099999999999999867, 'j': 3.0}),\n",
        " (35, {'c': 0.5460903765829035, 'u': 0.099999999999999867, 'j': 3.0}),\n",
        " (36, {'c': 0.8407691825553778, 'u': 0.099999999999999867, 'j': 3.0}),\n",
        " (37, {'c': 0.11698719637089727, 'u': 0.099999999999999867, 'j': 3.0}),\n",
        " (38, {'c': 0.5854899315545047, 'u': 0.099999999999999867, 'j': 3.0}),\n",
        " (39, {'c': 0.9745726826160718, 'u': 0.099999999999999867, 'j': 3.0})]"
       ]
      }
     ],
     "prompt_number": 40
    },
    {
     "cell_type": "code",
     "collapsed": false,
     "input": [
      "def soborno():\n",
      "    nodo = np.random.choice(range(len(g.nodes()))\n",
      "    \n",
      "    "
     ],
     "language": "python",
     "metadata": {},
     "outputs": [
      {
       "ename": "SyntaxError",
       "evalue": "unexpected EOF while parsing (<ipython-input-41-9d0ada844a6d>, line 4)",
       "output_type": "pyerr",
       "traceback": [
        "\u001b[0;36m  File \u001b[0;32m\"<ipython-input-41-9d0ada844a6d>\"\u001b[0;36m, line \u001b[0;32m4\u001b[0m\n\u001b[0;31m    \u001b[0m\n\u001b[0m    ^\u001b[0m\n\u001b[0;31mSyntaxError\u001b[0m\u001b[0;31m:\u001b[0m unexpected EOF while parsing\n"
       ]
      }
     ],
     "prompt_number": 41
    }
   ],
   "metadata": {}
  }
 ]
}