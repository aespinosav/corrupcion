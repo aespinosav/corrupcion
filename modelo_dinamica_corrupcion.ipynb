{
 "metadata": {
  "name": ""
 },
 "nbformat": 3,
 "nbformat_minor": 0,
 "worksheets": [
  {
   "cells": [
    {
     "cell_type": "code",
     "collapsed": false,
     "input": [
      "import numpy as np\n",
      "import networkx as nx\n",
      "import matplotlib.pyplot as plt\n",
      "%matplotlib inline"
     ],
     "language": "python",
     "metadata": {},
     "outputs": [],
     "prompt_number": 1
    },
    {
     "cell_type": "code",
     "collapsed": false,
     "input": [
      "branching_factor = 3.0\n",
      "height = 3.0"
     ],
     "language": "python",
     "metadata": {},
     "outputs": [],
     "prompt_number": 2
    },
    {
     "cell_type": "code",
     "collapsed": false,
     "input": [
      "g = nx.balanced_tree(int(branching_factor), int(height))"
     ],
     "language": "python",
     "metadata": {},
     "outputs": [],
     "prompt_number": 3
    },
    {
     "cell_type": "code",
     "collapsed": false,
     "input": [
      "g2 = nx.DiGraph(g)"
     ],
     "language": "python",
     "metadata": {},
     "outputs": [],
     "prompt_number": 4
    },
    {
     "cell_type": "code",
     "collapsed": false,
     "input": [
      "A = nx.adj_matrix(g2)"
     ],
     "language": "python",
     "metadata": {},
     "outputs": [],
     "prompt_number": 5
    },
    {
     "cell_type": "code",
     "collapsed": false,
     "input": [
      "for i in range(len(A)):\n",
      "    for j in range(len(A)):\n",
      "        if i > j:\n",
      "            A[i,j] = 0"
     ],
     "language": "python",
     "metadata": {},
     "outputs": [],
     "prompt_number": 6
    },
    {
     "cell_type": "code",
     "collapsed": false,
     "input": [
      "g = nx.DiGraph(A)"
     ],
     "language": "python",
     "metadata": {},
     "outputs": [],
     "prompt_number": 7
    },
    {
     "cell_type": "code",
     "collapsed": false,
     "input": [
      "def actual_level(index, branching):\n",
      "    l = np.floor(np.log(index*(branching -1) +1) / np.log(branching))\n",
      "    return l"
     ],
     "language": "python",
     "metadata": {},
     "outputs": [],
     "prompt_number": 8
    },
    {
     "cell_type": "code",
     "collapsed": false,
     "input": [
      "def umbral(j, u_max):\n",
      "    global height\n",
      "    u = -j*(2*u_max -1)/float(height) + u_max\n",
      "    return u"
     ],
     "language": "python",
     "metadata": {},
     "outputs": [],
     "prompt_number": 9
    },
    {
     "cell_type": "code",
     "collapsed": false,
     "input": [
      "class Nodo():\n",
      "    def __init__(self,i):\n",
      "        self.j = actual_level(i, branching_factor)\n",
      "        self.c = np.random.uniform(0,1)\n",
      "        self.u = umbral(self.j, 0.9)   \n",
      "    \n",
      "    def __repr__(self):\n",
      "        #esto deberia de poderse pasar al constructor... pero es para que se imprima bonito en nx..,\n",
      "        s = \"[j: {0}, c: {1}, u: {2}]\".format(self.j, self.c, self.u)\n",
      "        return s"
     ],
     "language": "python",
     "metadata": {},
     "outputs": [],
     "prompt_number": 10
    },
    {
     "cell_type": "code",
     "collapsed": false,
     "input": [
      "for i in range(len(g.nodes())):\n",
      "    g.node[i]['n'] = Nodo(i)"
     ],
     "language": "python",
     "metadata": {},
     "outputs": [],
     "prompt_number": 11
    },
    {
     "cell_type": "code",
     "collapsed": false,
     "input": [
      "g.nodes(data=True)"
     ],
     "language": "python",
     "metadata": {},
     "outputs": [
      {
       "metadata": {},
       "output_type": "pyout",
       "prompt_number": 12,
       "text": [
        "[(0, {'n': [j: 0.0, c: 0.266741978411, u: 0.9]}),\n",
        " (1, {'n': [j: 1.0, c: 0.758443924701, u: 0.633333333333]}),\n",
        " (2, {'n': [j: 1.0, c: 0.496882040765, u: 0.633333333333]}),\n",
        " (3, {'n': [j: 1.0, c: 0.448416080293, u: 0.633333333333]}),\n",
        " (4, {'n': [j: 2.0, c: 0.785731127646, u: 0.366666666667]}),\n",
        " (5, {'n': [j: 2.0, c: 0.0499899872541, u: 0.366666666667]}),\n",
        " (6, {'n': [j: 2.0, c: 0.103598902475, u: 0.366666666667]}),\n",
        " (7, {'n': [j: 2.0, c: 0.390206560421, u: 0.366666666667]}),\n",
        " (8, {'n': [j: 2.0, c: 0.621933515509, u: 0.366666666667]}),\n",
        " (9, {'n': [j: 2.0, c: 0.115899197345, u: 0.366666666667]}),\n",
        " (10, {'n': [j: 2.0, c: 0.306068703581, u: 0.366666666667]}),\n",
        " (11, {'n': [j: 2.0, c: 0.777045372309, u: 0.366666666667]}),\n",
        " (12, {'n': [j: 2.0, c: 0.30050845653, u: 0.366666666667]}),\n",
        " (13, {'n': [j: 3.0, c: 0.288580107856, u: 0.1]}),\n",
        " (14, {'n': [j: 3.0, c: 0.298853608104, u: 0.1]}),\n",
        " (15, {'n': [j: 3.0, c: 0.817861000409, u: 0.1]}),\n",
        " (16, {'n': [j: 3.0, c: 0.142096080771, u: 0.1]}),\n",
        " (17, {'n': [j: 3.0, c: 0.256164193105, u: 0.1]}),\n",
        " (18, {'n': [j: 3.0, c: 0.418184016197, u: 0.1]}),\n",
        " (19, {'n': [j: 3.0, c: 0.447822785946, u: 0.1]}),\n",
        " (20, {'n': [j: 3.0, c: 0.510452743609, u: 0.1]}),\n",
        " (21, {'n': [j: 3.0, c: 0.261608289625, u: 0.1]}),\n",
        " (22, {'n': [j: 3.0, c: 0.347929463358, u: 0.1]}),\n",
        " (23, {'n': [j: 3.0, c: 0.70713893268, u: 0.1]}),\n",
        " (24, {'n': [j: 3.0, c: 0.261437658199, u: 0.1]}),\n",
        " (25, {'n': [j: 3.0, c: 0.615324522355, u: 0.1]}),\n",
        " (26, {'n': [j: 3.0, c: 0.907629222693, u: 0.1]}),\n",
        " (27, {'n': [j: 3.0, c: 0.519614220876, u: 0.1]}),\n",
        " (28, {'n': [j: 3.0, c: 0.678772920072, u: 0.1]}),\n",
        " (29, {'n': [j: 3.0, c: 0.649376686922, u: 0.1]}),\n",
        " (30, {'n': [j: 3.0, c: 0.199507673958, u: 0.1]}),\n",
        " (31, {'n': [j: 3.0, c: 0.911532070137, u: 0.1]}),\n",
        " (32, {'n': [j: 3.0, c: 0.155636823273, u: 0.1]}),\n",
        " (33, {'n': [j: 3.0, c: 0.18989283611, u: 0.1]}),\n",
        " (34, {'n': [j: 3.0, c: 0.334513225319, u: 0.1]}),\n",
        " (35, {'n': [j: 3.0, c: 0.133822122988, u: 0.1]}),\n",
        " (36, {'n': [j: 3.0, c: 0.356396779297, u: 0.1]}),\n",
        " (37, {'n': [j: 3.0, c: 0.899115664829, u: 0.1]}),\n",
        " (38, {'n': [j: 3.0, c: 0.241883234071, u: 0.1]}),\n",
        " (39, {'n': [j: 3.0, c: 0.545933570252, u: 0.1]})]"
       ]
      }
     ],
     "prompt_number": 12
    }
   ],
   "metadata": {}
  }
 ]
}