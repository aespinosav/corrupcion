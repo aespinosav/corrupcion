{
 "metadata": {
  "name": ""
 },
 "nbformat": 3,
 "nbformat_minor": 0,
 "worksheets": [
  {
   "cells": [
    {
     "cell_type": "code",
     "collapsed": false,
     "input": [
      "import numpy as np\n",
      "import networkx as nx\n",
      "import matplotlib.pyplot as plt\n",
      "%matplotlib inline"
     ],
     "language": "python",
     "metadata": {},
     "outputs": [],
     "prompt_number": 1
    },
    {
     "cell_type": "code",
     "collapsed": false,
     "input": [
      "branching_factor = 3.0\n",
      "height = 3.0"
     ],
     "language": "python",
     "metadata": {},
     "outputs": [],
     "prompt_number": 2
    },
    {
     "cell_type": "code",
     "collapsed": false,
     "input": [
      "g = nx.balanced_tree(int(branching_factor), int(height))"
     ],
     "language": "python",
     "metadata": {},
     "outputs": [],
     "prompt_number": 3
    },
    {
     "cell_type": "code",
     "collapsed": false,
     "input": [
      "g2 = nx.DiGraph(g)"
     ],
     "language": "python",
     "metadata": {},
     "outputs": [],
     "prompt_number": 4
    },
    {
     "cell_type": "code",
     "collapsed": false,
     "input": [
      "A = nx.adj_matrix(g2)"
     ],
     "language": "python",
     "metadata": {},
     "outputs": [],
     "prompt_number": 5
    },
    {
     "cell_type": "code",
     "collapsed": false,
     "input": [
      "for i in range(len(A)):\n",
      "    for j in range(len(A)):\n",
      "        if i > j:\n",
      "            A[i,j] = 0"
     ],
     "language": "python",
     "metadata": {},
     "outputs": [],
     "prompt_number": 6
    },
    {
     "cell_type": "code",
     "collapsed": false,
     "input": [
      "g = nx.DiGraph(A)"
     ],
     "language": "python",
     "metadata": {},
     "outputs": [],
     "prompt_number": 7
    },
    {
     "cell_type": "code",
     "collapsed": false,
     "input": [
      "def actual_level(index, branching):\n",
      "    l = np.floor(np.log(index*(branching -1) +1) / np.log(branching))\n",
      "    return l"
     ],
     "language": "python",
     "metadata": {},
     "outputs": [],
     "prompt_number": 8
    },
    {
     "cell_type": "code",
     "collapsed": false,
     "input": [
      "def umbral(j, u_max):\n",
      "    global height\n",
      "    u = -j*(2*u_max -1)/float(height) + u_max\n",
      "    return u"
     ],
     "language": "python",
     "metadata": {},
     "outputs": [],
     "prompt_number": 9
    },
    {
     "cell_type": "code",
     "collapsed": false,
     "input": [
      "class Nodo():\n",
      "    def __init__(self,i):\n",
      "        self.j = actual_level(i, branching_factor)\n",
      "        self.c = np.random.uniform(0,1)\n",
      "        self.u = umbral(self.j, 0.9)   \n",
      "    \n",
      "    def __repr__(self):\n",
      "        #esto deberia de poderse pasar al constructor... pero es para que se imprima bonito en nx..,\n",
      "        s = \"[j: {0}, c: {1}, u: {2}]\".format(self.j, self.c, self.u)\n",
      "        return s"
     ],
     "language": "python",
     "metadata": {},
     "outputs": [],
     "prompt_number": 10
    },
    {
     "cell_type": "code",
     "collapsed": false,
     "input": [
      "for i in range(len(g.nodes())):\n",
      "    g.node[i]['n'] = Nodo(i)"
     ],
     "language": "python",
     "metadata": {},
     "outputs": [],
     "prompt_number": 161
    },
    {
     "cell_type": "code",
     "collapsed": false,
     "input": [
      "g.nodes(data=True)"
     ],
     "language": "python",
     "metadata": {},
     "outputs": [
      {
       "metadata": {},
       "output_type": "pyout",
       "prompt_number": 12,
       "text": [
        "[(0, {'n': [j: 0.0, c: 0.263935276499, u: 0.9]}),\n",
        " (1, {'n': [j: 1.0, c: 0.885988812721, u: 0.633333333333]}),\n",
        " (2, {'n': [j: 1.0, c: 0.185272633968, u: 0.633333333333]}),\n",
        " (3, {'n': [j: 1.0, c: 0.617460022078, u: 0.633333333333]}),\n",
        " (4, {'n': [j: 2.0, c: 0.809329382027, u: 0.366666666667]}),\n",
        " (5, {'n': [j: 2.0, c: 0.870344381711, u: 0.366666666667]}),\n",
        " (6, {'n': [j: 2.0, c: 0.454658864274, u: 0.366666666667]}),\n",
        " (7, {'n': [j: 2.0, c: 0.271896219753, u: 0.366666666667]}),\n",
        " (8, {'n': [j: 2.0, c: 0.178389590696, u: 0.366666666667]}),\n",
        " (9, {'n': [j: 2.0, c: 0.379938745363, u: 0.366666666667]}),\n",
        " (10, {'n': [j: 2.0, c: 0.47381421579, u: 0.366666666667]}),\n",
        " (11, {'n': [j: 2.0, c: 0.204207784283, u: 0.366666666667]}),\n",
        " (12, {'n': [j: 2.0, c: 0.368472609271, u: 0.366666666667]}),\n",
        " (13, {'n': [j: 3.0, c: 0.70478923965, u: 0.1]}),\n",
        " (14, {'n': [j: 3.0, c: 0.374804397517, u: 0.1]}),\n",
        " (15, {'n': [j: 3.0, c: 0.395390098421, u: 0.1]}),\n",
        " (16, {'n': [j: 3.0, c: 0.672282230302, u: 0.1]}),\n",
        " (17, {'n': [j: 3.0, c: 0.909864002203, u: 0.1]}),\n",
        " (18, {'n': [j: 3.0, c: 0.137914667546, u: 0.1]}),\n",
        " (19, {'n': [j: 3.0, c: 0.635225295736, u: 0.1]}),\n",
        " (20, {'n': [j: 3.0, c: 0.0844127455381, u: 0.1]}),\n",
        " (21, {'n': [j: 3.0, c: 0.948014980909, u: 0.1]}),\n",
        " (22, {'n': [j: 3.0, c: 0.969568915499, u: 0.1]}),\n",
        " (23, {'n': [j: 3.0, c: 0.689899294324, u: 0.1]}),\n",
        " (24, {'n': [j: 3.0, c: 0.209506497819, u: 0.1]}),\n",
        " (25, {'n': [j: 3.0, c: 0.429769210496, u: 0.1]}),\n",
        " (26, {'n': [j: 3.0, c: 0.362963490488, u: 0.1]}),\n",
        " (27, {'n': [j: 3.0, c: 0.124165606019, u: 0.1]}),\n",
        " (28, {'n': [j: 3.0, c: 0.814018426647, u: 0.1]}),\n",
        " (29, {'n': [j: 3.0, c: 0.0198520609409, u: 0.1]}),\n",
        " (30, {'n': [j: 3.0, c: 0.767425540453, u: 0.1]}),\n",
        " (31, {'n': [j: 3.0, c: 0.261704385369, u: 0.1]}),\n",
        " (32, {'n': [j: 3.0, c: 0.490484173537, u: 0.1]}),\n",
        " (33, {'n': [j: 3.0, c: 0.298736047927, u: 0.1]}),\n",
        " (34, {'n': [j: 3.0, c: 0.36852558281, u: 0.1]}),\n",
        " (35, {'n': [j: 3.0, c: 0.0317192647116, u: 0.1]}),\n",
        " (36, {'n': [j: 3.0, c: 0.782401285272, u: 0.1]}),\n",
        " (37, {'n': [j: 3.0, c: 0.937768005872, u: 0.1]}),\n",
        " (38, {'n': [j: 3.0, c: 0.697946219243, u: 0.1]}),\n",
        " (39, {'n': [j: 3.0, c: 0.403557288399, u: 0.1]})]"
       ]
      }
     ],
     "prompt_number": 12
    },
    {
     "cell_type": "markdown",
     "metadata": {},
     "source": [
      "La regla de actualizacion del nivel de corrupci\u00f3n individual dependiendo si se acepto el soborno esta dado por,\n",
      "$$\n",
      "c_i^{t+1} = c_i + (\\frac{s-u}{1-u})[\\alpha(1 - c_i^t) - (1-\\alpha)c_i^t]\n",
      "$$\n",
      "Que se reduce a,\n",
      "$$\n",
      "c_i^{t+1} = c_i^t + (\\frac{(s-u)(\\alpha - c_i^t)}{1-u}\n",
      "$$"
     ]
    },
    {
     "cell_type": "code",
     "collapsed": false,
     "input": [
      "def update_for_bribe(node):\n",
      "    \"\"\"\n",
      "    Tries to bribe a node and updates the corruption level\n",
      "    according to either rejection or acceptance\n",
      "    \"\"\"\n",
      "    s = np.random.uniform(0,1) # choose bribe size\n",
      "    \n",
      "    alpha = 0.0\n",
      "    \n",
      "    if s > node.u:\n",
      "        r = np.random.uniform(0,1)\n",
      "        if r < node.c: #choose to accept or reject\n",
      "            alpha = 1.0\n",
      "        #print node.c\n",
      "        node.c += (s - node.u)*(alpha - node.c)/(1- node.u)\n",
      "        #print node.c\n",
      "    #si te ofrecen menos que u, no cambia corrupcion\n",
      "    \n",
      "    #print alpha\n",
      "    \n",
      "    \n",
      "    "
     ],
     "language": "python",
     "metadata": {},
     "outputs": [],
     "prompt_number": 147
    },
    {
     "cell_type": "code",
     "collapsed": false,
     "input": [
      "print g.node[0]['n'].c\n",
      "print\n",
      "update_for_bribe(g.node[0]['n'])\n",
      "print\n",
      "print g.node[0]['n'].c"
     ],
     "language": "python",
     "metadata": {},
     "outputs": [
      {
       "output_type": "stream",
       "stream": "stdout",
       "text": [
        "1.34473846423e-05\n",
        "\n",
        "\n",
        "1.34473846423e-05\n"
       ]
      }
     ],
     "prompt_number": 148
    },
    {
     "cell_type": "code",
     "collapsed": false,
     "input": [
      "def iteracion_sobornos(g, N):\n",
      "    plt.clf()\n",
      "    CC = []\n",
      "    for k in range(N):\n",
      "        nodo = np.random.randint(0, len(g.nodes()))\n",
      "        update_for_bribe(g.node[nodo]['n'])\n",
      "        \n",
      "        C = [ g.node[i]['n'].c for i in range(len(g.nodes()))]\n",
      "        CC.append(np.average(C))\n",
      "        #plot_cor_levels(g)\n",
      "    return CC"
     ],
     "language": "python",
     "metadata": {},
     "outputs": [],
     "prompt_number": 160
    },
    {
     "cell_type": "code",
     "collapsed": false,
     "input": [
      "def plot_cor_levels(g):\n",
      "    \n",
      "    C = [ g.node[i]['n'].c for i in range(len(g.nodes()))]\n",
      "    plt.plot(C, 'o-')"
     ],
     "language": "python",
     "metadata": {},
     "outputs": [],
     "prompt_number": 152
    },
    {
     "cell_type": "code",
     "collapsed": false,
     "input": [
      "CC = iteracion_sobornos(g, 1000)"
     ],
     "language": "python",
     "metadata": {},
     "outputs": [
      {
       "metadata": {},
       "output_type": "display_data",
       "text": [
        "<matplotlib.figure.Figure at 0xdc4f650>"
       ]
      }
     ],
     "prompt_number": 173
    },
    {
     "cell_type": "code",
     "collapsed": false,
     "input": [
      "plt.plot(CC)"
     ],
     "language": "python",
     "metadata": {},
     "outputs": [
      {
       "metadata": {},
       "output_type": "pyout",
       "prompt_number": 174,
       "text": [
        "[<matplotlib.lines.Line2D at 0x527ead0>]"
       ]
      },
      {
       "metadata": {},
       "output_type": "display_data",
       "png": "[encoded data removed]",
       "text": [
        "<matplotlib.figure.Figure at 0x7f50c42d07d0>"
       ]
      }
     ],
     "prompt_number": 174
    },
    {
     "cell_type": "code",
     "collapsed": false,
     "input": [
      "for i in range(len(g.nodes())):\n",
      "    g.node[i]['n'] = Nodo(i)\n",
      "    \n",
      "CC = iteracion_sobornos(g, 2000)\n",
      "plt.plot(CC)\n",
      "plt.ylim([0,1])\n"
     ],
     "language": "python",
     "metadata": {},
     "outputs": [
      {
       "metadata": {},
       "output_type": "pyout",
       "prompt_number": 291,
       "text": [
        "(0, 1)"
       ]
      },
      {
       "metadata": {},
       "output_type": "display_data",
       "png": "[encoded data removed]",
       "text": [
        "<matplotlib.figure.Figure at 0x14099ed0>"
       ]
      }
     ],
     "prompt_number": 291
    },
    {
     "cell_type": "code",
     "collapsed": false,
     "input": [],
     "language": "python",
     "metadata": {},
     "outputs": [],
     "prompt_number": 232
    },
    {
     "cell_type": "code",
     "collapsed": false,
     "input": [],
     "language": "python",
     "metadata": {},
     "outputs": []
    }
   ],
   "metadata": {}
  }
 ]
}