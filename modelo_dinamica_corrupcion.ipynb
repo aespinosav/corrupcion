{
 "metadata": {
  "name": ""
 },
 "nbformat": 3,
 "nbformat_minor": 0,
 "worksheets": [
  {
   "cells": [
    {
     "cell_type": "code",
     "collapsed": false,
     "input": [
      "import numpy as np\n",
      "import networkx as nx\n",
      "import matplotlib.pyplot as plt\n",
      "%matplotlib inline"
     ],
     "language": "python",
     "metadata": {},
     "outputs": []
    },
    {
     "cell_type": "code",
     "collapsed": false,
     "input": [
      "branching_factor = 3.0\n",
      "height = 3.0"
     ],
     "language": "python",
     "metadata": {},
     "outputs": []
    },
    {
     "cell_type": "code",
     "collapsed": false,
     "input": [
      "g = nx.balanced_tree(int(branching_factor), int(height))"
     ],
     "language": "python",
     "metadata": {},
     "outputs": []
    },
    {
     "cell_type": "code",
     "collapsed": false,
     "input": [
      "g2 = nx.DiGraph(g)"
     ],
     "language": "python",
     "metadata": {},
     "outputs": []
    },
    {
     "cell_type": "code",
     "collapsed": false,
     "input": [
      "A = nx.adj_matrix(g2)"
     ],
     "language": "python",
     "metadata": {},
     "outputs": []
    },
    {
     "cell_type": "code",
     "collapsed": false,
     "input": [
      "for i in range(len(A)):\n",
      "    for j in range(len(A)):\n",
      "        if i > j:\n",
      "            A[i,j] = 0"
     ],
     "language": "python",
     "metadata": {},
     "outputs": []
    },
    {
     "cell_type": "code",
     "collapsed": false,
     "input": [
      "g = nx.DiGraph(A)"
     ],
     "language": "python",
     "metadata": {},
     "outputs": []
    },
    {
     "cell_type": "code",
     "collapsed": false,
     "input": [
      "def actual_level(index, branching):\n",
      "    l = np.floor(np.log(index*(branching -1) +1) / np.log(branching))\n",
      "    return l"
     ],
     "language": "python",
     "metadata": {},
     "outputs": []
    },
    {
     "cell_type": "code",
     "collapsed": false,
     "input": [
      "def umbral(j, u_max):\n",
      "    global height\n",
      "    u = -j*(2*u_max -1)/float(height) + u_max\n",
      "    return u"
     ],
     "language": "python",
     "metadata": {},
     "outputs": []
    },
    {
     "cell_type": "code",
     "collapsed": false,
     "input": [
      "class Nodo():\n",
      "    def __init__(self,i):\n",
      "        self.j = actual_level(i, branching_factor)\n",
      "        self.c = np.random.uniform(0,1)\n",
      "        self.u = umbral(self.j, 0.9)   \n",
      "    \n",
      "    def __repr__(self):\n",
      "        #esto deberia de poderse pasar al constructor... pero es para que se imprima bonito en nx..,\n",
      "        s = \"[j: {0}, c: {1}, u: {2}]\".format(self.j, self.c, self.u)\n",
      "        return s"
     ],
     "language": "python",
     "metadata": {},
     "outputs": []
    },
    {
     "cell_type": "code",
     "collapsed": false,
     "input": [
      "for i in range(len(g.nodes())):\n",
      "    g.node[i]['n'] = Nodo(i)"
     ],
     "language": "python",
     "metadata": {},
     "outputs": []
    },
    {
     "cell_type": "code",
     "collapsed": false,
     "input": [
      "g.nodes(data=True)"
     ],
     "language": "python",
     "metadata": {},
     "outputs": []
    }
   ],
   "metadata": {}
  }
 ]
}