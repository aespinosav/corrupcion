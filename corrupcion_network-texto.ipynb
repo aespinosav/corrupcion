{
 "metadata": {
  "name": "",
  "signature": "sha256:c699e84775657fc4723ba2f956567b7a650360bec12a71ea8108091d9e7a1a11"
 },
 "nbformat": 3,
 "nbformat_minor": 0,
 "worksheets": [
  {
   "cells": [
    {
     "cell_type": "code",
     "collapsed": false,
     "input": [
      "import numpy as np\n",
      "import networkx as nx\n",
      "import matplotlib.pyplot as plt\n",
      "from pylab import *\n",
      "from IPython.display import display\n",
      "from IPython.display import Latex\n",
      "from IPython.display import Math\n",
      "%matplotlib inline "
     ],
     "language": "python",
     "metadata": {},
     "outputs": [],
     "prompt_number": 1
    },
    {
     "cell_type": "heading",
     "level": 1,
     "metadata": {},
     "source": [
      "Modelo de corrupci\u00f3n en una red jer\u00e1rquica"
     ]
    },
    {
     "cell_type": "markdown",
     "metadata": {},
     "source": [
      "Se utiliza una red jer\u00e1rquica representada por un \u00e1rbol con\n",
      "*factor de crecimiento* $b$ (elementos subordinados) y $h$ niveles jer\u00e1rquicos"
     ]
    },
    {
     "cell_type": "code",
     "collapsed": false,
     "input": [
      "branching_factor = 3.0\n",
      "height = 3.0"
     ],
     "language": "python",
     "metadata": {},
     "outputs": [],
     "prompt_number": 2
    },
    {
     "cell_type": "heading",
     "level": 3,
     "metadata": {},
     "source": [
      "Construcci\u00f3n de la red"
     ]
    },
    {
     "cell_type": "code",
     "collapsed": false,
     "input": [
      "g = nx.balanced_tree(int(branching_factor), int(height))"
     ],
     "language": "python",
     "metadata": {},
     "outputs": [],
     "prompt_number": 3
    },
    {
     "cell_type": "code",
     "collapsed": false,
     "input": [
      "g2 = nx.DiGraph(g)"
     ],
     "language": "python",
     "metadata": {},
     "outputs": [],
     "prompt_number": 4
    },
    {
     "cell_type": "code",
     "collapsed": false,
     "input": [
      "A = nx.adj_matrix(g2)\n",
      "type(A)"
     ],
     "language": "python",
     "metadata": {},
     "outputs": [
      {
       "metadata": {},
       "output_type": "pyout",
       "prompt_number": 5,
       "text": [
        "scipy.sparse.csr.csr_matrix"
       ]
      }
     ],
     "prompt_number": 5
    },
    {
     "cell_type": "code",
     "collapsed": false,
     "input": [
      "for i in range(A.shape[0]):\n",
      "    for j in range(A.shape[1]):\n",
      "        if i > j:\n",
      "            A[i,j] = 0"
     ],
     "language": "python",
     "metadata": {},
     "outputs": [
      {
       "output_type": "stream",
       "stream": "stderr",
       "text": [
        "/Users/martinzh/anaconda/lib/python3.4/site-packages/scipy/sparse/compressed.py:690: SparseEfficiencyWarning: Changing the sparsity structure of a csr_matrix is expensive. lil_matrix is more efficient.\n",
        "  SparseEfficiencyWarning)\n"
       ]
      }
     ],
     "prompt_number": 6
    },
    {
     "cell_type": "code",
     "collapsed": false,
     "input": [
      "#print (A)"
     ],
     "language": "python",
     "metadata": {},
     "outputs": [],
     "prompt_number": 7
    },
    {
     "cell_type": "code",
     "collapsed": false,
     "input": [
      "g = nx.DiGraph(A)"
     ],
     "language": "python",
     "metadata": {},
     "outputs": [],
     "prompt_number": 8
    },
    {
     "cell_type": "heading",
     "level": 3,
     "metadata": {},
     "source": [
      "C\u00e1lculo del nivel jer\u00e1rquico en funci\u00f3n del \u00edndice del nodo"
     ]
    },
    {
     "cell_type": "code",
     "collapsed": false,
     "input": [
      "def actual_level(index, branching):\n",
      "    l = np.floor(np.log(index*(branching -1) +1) / np.log(branching))\n",
      "    return l"
     ],
     "language": "python",
     "metadata": {},
     "outputs": [],
     "prompt_number": 9
    },
    {
     "cell_type": "heading",
     "level": 3,
     "metadata": {},
     "source": [
      "Definici\u00f3n de la clase Nodo"
     ]
    },
    {
     "cell_type": "code",
     "collapsed": false,
     "input": [
      "def umbral(j, u_max):\n",
      "    global height    \n",
      "    u = -j*(2*u_max -1)/float(height) + u_max\n",
      "    return u"
     ],
     "language": "python",
     "metadata": {},
     "outputs": [],
     "prompt_number": 10
    },
    {
     "cell_type": "code",
     "collapsed": false,
     "input": [
      "for i in range(len(g.nodes())):\n",
      "    #actual_level = i branching_factor**level\n",
      "    #level_pop =\n",
      "    #j = int(np.ceil(i/branching_factor))\n",
      "    \n",
      "    j = actual_level(i, branching_factor)\n",
      "    g.node[i]['j'] = j\n",
      "    g.node[i]['c'] = np.random.uniform(0,1)\n",
      "    g.node[i]['u'] = umbral(j, 0.9)"
     ],
     "language": "python",
     "metadata": {},
     "outputs": [],
     "prompt_number": 11
    },
    {
     "cell_type": "code",
     "collapsed": false,
     "input": [
      "g.nodes(data=True)"
     ],
     "language": "python",
     "metadata": {},
     "outputs": [
      {
       "metadata": {},
       "output_type": "pyout",
       "prompt_number": 12,
       "text": [
        "[(0, {'j': 0.0, 'c': 0.660365000251871, 'u': 0.90000000000000002}),\n",
        " (1, {'j': 1.0, 'c': 0.11866375647642402, 'u': 0.6333333333333333}),\n",
        " (2, {'j': 1.0, 'c': 0.9808774473071367, 'u': 0.6333333333333333}),\n",
        " (3, {'j': 1.0, 'c': 0.7394946986861656, 'u': 0.6333333333333333}),\n",
        " (4, {'j': 2.0, 'c': 0.2931013822655245, 'u': 0.3666666666666667}),\n",
        " (5, {'j': 2.0, 'c': 0.7324555271895385, 'u': 0.3666666666666667}),\n",
        " (6, {'j': 2.0, 'c': 0.6787701623450746, 'u': 0.3666666666666667}),\n",
        " (7, {'j': 2.0, 'c': 0.1585793049364671, 'u': 0.3666666666666667}),\n",
        " (8, {'j': 2.0, 'c': 0.8097498476572931, 'u': 0.3666666666666667}),\n",
        " (9, {'j': 2.0, 'c': 0.0787584008548261, 'u': 0.3666666666666667}),\n",
        " (10, {'j': 2.0, 'c': 0.1455338544381375, 'u': 0.3666666666666667}),\n",
        " (11, {'j': 2.0, 'c': 0.4534007478375992, 'u': 0.3666666666666667}),\n",
        " (12, {'j': 2.0, 'c': 0.773910061801205, 'u': 0.3666666666666667}),\n",
        " (13, {'j': 3.0, 'c': 0.46091529945999443, 'u': 0.099999999999999867}),\n",
        " (14, {'j': 3.0, 'c': 0.8685841690742684, 'u': 0.099999999999999867}),\n",
        " (15, {'j': 3.0, 'c': 0.4772278228804002, 'u': 0.099999999999999867}),\n",
        " (16, {'j': 3.0, 'c': 0.42696964524645464, 'u': 0.099999999999999867}),\n",
        " (17, {'j': 3.0, 'c': 0.5409957930583041, 'u': 0.099999999999999867}),\n",
        " (18, {'j': 3.0, 'c': 0.4820754086338851, 'u': 0.099999999999999867}),\n",
        " (19, {'j': 3.0, 'c': 0.17697650603982773, 'u': 0.099999999999999867}),\n",
        " (20, {'j': 3.0, 'c': 0.25919643745617227, 'u': 0.099999999999999867}),\n",
        " (21, {'j': 3.0, 'c': 0.20952344520697108, 'u': 0.099999999999999867}),\n",
        " (22, {'j': 3.0, 'c': 0.6546541128137002, 'u': 0.099999999999999867}),\n",
        " (23, {'j': 3.0, 'c': 0.3299295668741623, 'u': 0.099999999999999867}),\n",
        " (24, {'j': 3.0, 'c': 0.25165685758716627, 'u': 0.099999999999999867}),\n",
        " (25, {'j': 3.0, 'c': 0.2522023489884839, 'u': 0.099999999999999867}),\n",
        " (26, {'j': 3.0, 'c': 0.7120134984494404, 'u': 0.099999999999999867}),\n",
        " (27, {'j': 3.0, 'c': 0.48987999411768024, 'u': 0.099999999999999867}),\n",
        " (28, {'j': 3.0, 'c': 0.22494298695550496, 'u': 0.099999999999999867}),\n",
        " (29, {'j': 3.0, 'c': 0.8493974811164897, 'u': 0.099999999999999867}),\n",
        " (30, {'j': 3.0, 'c': 0.00745550704172826, 'u': 0.099999999999999867}),\n",
        " (31, {'j': 3.0, 'c': 0.9580943650722379, 'u': 0.099999999999999867}),\n",
        " (32, {'j': 3.0, 'c': 0.1153847602138588, 'u': 0.099999999999999867}),\n",
        " (33, {'j': 3.0, 'c': 0.809506388689031, 'u': 0.099999999999999867}),\n",
        " (34, {'j': 3.0, 'c': 0.16733647321515543, 'u': 0.099999999999999867}),\n",
        " (35, {'j': 3.0, 'c': 0.31605949589311566, 'u': 0.099999999999999867}),\n",
        " (36, {'j': 3.0, 'c': 0.44736498473276687, 'u': 0.099999999999999867}),\n",
        " (37, {'j': 3.0, 'c': 0.19814490053530176, 'u': 0.099999999999999867}),\n",
        " (38, {'j': 3.0, 'c': 0.6540816375978821, 'u': 0.099999999999999867}),\n",
        " (39, {'j': 3.0, 'c': 0.5306004393986238, 'u': 0.099999999999999867})]"
       ]
      }
     ],
     "prompt_number": 12
    },
    {
     "cell_type": "code",
     "collapsed": false,
     "input": [
      "def soborno():\n",
      "    nodo = np.random.choice(range(len(g.nodes()))\n",
      "    \n",
      "    "
     ],
     "language": "python",
     "metadata": {},
     "outputs": [
      {
       "ename": "SyntaxError",
       "evalue": "unexpected EOF while parsing (<ipython-input-13-9d0ada844a6d>, line 4)",
       "output_type": "pyerr",
       "traceback": [
        "\u001b[0;36m  File \u001b[0;32m\"<ipython-input-13-9d0ada844a6d>\"\u001b[0;36m, line \u001b[0;32m4\u001b[0m\n\u001b[0;31m    \u001b[0m\n\u001b[0m    ^\u001b[0m\n\u001b[0;31mSyntaxError\u001b[0m\u001b[0;31m:\u001b[0m unexpected EOF while parsing\n"
       ]
      }
     ],
     "prompt_number": 13
    }
   ],
   "metadata": {}
  }
 ]
}