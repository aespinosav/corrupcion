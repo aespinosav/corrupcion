{
 "metadata": {
  "name": "",
  "signature": "sha256:ab11c155aa46009aace54ec67f9bb4476e325ab8f223f6cccb5793103b6a08fb"
 },
 "nbformat": 3,
 "nbformat_minor": 0,
 "worksheets": [
  {
   "cells": [
    {
     "cell_type": "code",
     "collapsed": false,
     "input": [
      "import numpy as np\n",
      "import networkx as nx\n",
      "import matplotlib.pyplot as plt\n",
      "from pylab import *\n",
      "%matplotlib inline "
     ],
     "language": "python",
     "metadata": {},
     "outputs": [],
     "prompt_number": 1
    },
    {
     "cell_type": "code",
     "collapsed": false,
     "input": [
      "branching_factor = 3.0\n",
      "height = 3.0"
     ],
     "language": "python",
     "metadata": {},
     "outputs": [],
     "prompt_number": 2
    },
    {
     "cell_type": "code",
     "collapsed": false,
     "input": [
      "g = nx.balanced_tree(int(branching_factor), int(height))"
     ],
     "language": "python",
     "metadata": {},
     "outputs": [],
     "prompt_number": 3
    },
    {
     "cell_type": "code",
     "collapsed": false,
     "input": [
      "g2 = nx.DiGraph(g)"
     ],
     "language": "python",
     "metadata": {},
     "outputs": [],
     "prompt_number": 4
    },
    {
     "cell_type": "code",
     "collapsed": false,
     "input": [
      "A = nx.adj_matrix(g2)"
     ],
     "language": "python",
     "metadata": {},
     "outputs": [],
     "prompt_number": 5
    },
    {
     "cell_type": "code",
     "collapsed": false,
     "input": [
      "for i in range(len(A)):\n",
      "    for j in range(len(A)):\n",
      "        if i > j:\n",
      "            A[i,j] = 0"
     ],
     "language": "python",
     "metadata": {},
     "outputs": [
      {
       "ename": "TypeError",
       "evalue": "sparse matrix length is ambiguous; use getnnz() or shape[0]",
       "output_type": "pyerr",
       "traceback": [
        "\u001b[0;31m---------------------------------------------------------------------------\u001b[0m\n\u001b[0;31mTypeError\u001b[0m                                 Traceback (most recent call last)",
        "\u001b[0;32m<ipython-input-6-dfc3e402eb34>\u001b[0m in \u001b[0;36m<module>\u001b[0;34m()\u001b[0m\n\u001b[0;32m----> 1\u001b[0;31m \u001b[0;32mfor\u001b[0m \u001b[0mi\u001b[0m \u001b[0;32min\u001b[0m \u001b[0mrange\u001b[0m\u001b[0;34m(\u001b[0m\u001b[0mlen\u001b[0m\u001b[0;34m(\u001b[0m\u001b[0mA\u001b[0m\u001b[0;34m)\u001b[0m\u001b[0;34m)\u001b[0m\u001b[0;34m:\u001b[0m\u001b[0;34m\u001b[0m\u001b[0m\n\u001b[0m\u001b[1;32m      2\u001b[0m     \u001b[0;32mfor\u001b[0m \u001b[0mj\u001b[0m \u001b[0;32min\u001b[0m \u001b[0mrange\u001b[0m\u001b[0;34m(\u001b[0m\u001b[0mlen\u001b[0m\u001b[0;34m(\u001b[0m\u001b[0mA\u001b[0m\u001b[0;34m)\u001b[0m\u001b[0;34m)\u001b[0m\u001b[0;34m:\u001b[0m\u001b[0;34m\u001b[0m\u001b[0m\n\u001b[1;32m      3\u001b[0m         \u001b[0;32mif\u001b[0m \u001b[0mi\u001b[0m \u001b[0;34m>\u001b[0m \u001b[0mj\u001b[0m\u001b[0;34m:\u001b[0m\u001b[0;34m\u001b[0m\u001b[0m\n\u001b[1;32m      4\u001b[0m             \u001b[0mA\u001b[0m\u001b[0;34m[\u001b[0m\u001b[0mi\u001b[0m\u001b[0;34m,\u001b[0m\u001b[0mj\u001b[0m\u001b[0;34m]\u001b[0m \u001b[0;34m=\u001b[0m \u001b[0;36m0\u001b[0m\u001b[0;34m\u001b[0m\u001b[0m\n",
        "\u001b[0;32m/Users/martinzh/anaconda/lib/python3.4/site-packages/scipy/sparse/base.py\u001b[0m in \u001b[0;36m__len__\u001b[0;34m(self)\u001b[0m\n\u001b[1;32m    190\u001b[0m     \u001b[0;32mdef\u001b[0m \u001b[0m__len__\u001b[0m\u001b[0;34m(\u001b[0m\u001b[0mself\u001b[0m\u001b[0;34m)\u001b[0m\u001b[0;34m:\u001b[0m\u001b[0;34m\u001b[0m\u001b[0m\n\u001b[1;32m    191\u001b[0m         \u001b[0;31m# return self.getnnz()\u001b[0m\u001b[0;34m\u001b[0m\u001b[0;34m\u001b[0m\u001b[0m\n\u001b[0;32m--> 192\u001b[0;31m         raise TypeError(\"sparse matrix length is ambiguous; use getnnz()\"\n\u001b[0m\u001b[1;32m    193\u001b[0m                          \" or shape[0]\")\n\u001b[1;32m    194\u001b[0m \u001b[0;34m\u001b[0m\u001b[0m\n",
        "\u001b[0;31mTypeError\u001b[0m: sparse matrix length is ambiguous; use getnnz() or shape[0]"
       ]
      }
     ],
     "prompt_number": 6
    },
    {
     "cell_type": "code",
     "collapsed": false,
     "input": [
      "print A"
     ],
     "language": "python",
     "metadata": {},
     "outputs": []
    },
    {
     "cell_type": "code",
     "collapsed": false,
     "input": [
      "g = nx.DiGraph(A)"
     ],
     "language": "python",
     "metadata": {},
     "outputs": []
    },
    {
     "cell_type": "code",
     "collapsed": false,
     "input": [
      "def actual_level(index, branching):\n",
      "    l = np.floor(np.log(index*(branching -1) +1) / np.log(branching))\n",
      "    return l"
     ],
     "language": "python",
     "metadata": {},
     "outputs": []
    },
    {
     "cell_type": "code",
     "collapsed": false,
     "input": [
      "def umbral(j, u_max):\n",
      "    global height    \n",
      "    u = -j*(2*u_max -1)/float(height) + u_max\n",
      "    return u"
     ],
     "language": "python",
     "metadata": {},
     "outputs": []
    },
    {
     "cell_type": "code",
     "collapsed": false,
     "input": [
      "class Nodo():\n",
      "    \n",
      "    def __init__(self,i):\n",
      "        self.j = actual_level(i, branching_factor)\n",
      "        self.c = np.random.uniform(0,1)\n",
      "        self.u = umbral(self.j, 0.9)\n",
      "        \n",
      "    def __repr__(self):\n",
      "        #esto deberia de poderse pasar al constructor... pero es para que se imprima bonito en nx...\n",
      "        s = \"[j: {0}, c: {1}, u: {2}]\".format(self.j, self.c, self.u)\n",
      "        return s"
     ],
     "language": "python",
     "metadata": {},
     "outputs": [],
     "prompt_number": 63
    },
    {
     "cell_type": "code",
     "collapsed": false,
     "input": [
      "for i in range(len(g.nodes())):\n",
      "    g.node[i]['n'] = Nodo(i)"
     ],
     "language": "python",
     "metadata": {},
     "outputs": [],
     "prompt_number": 64
    },
    {
     "cell_type": "code",
     "collapsed": false,
     "input": [
      "#for i in range(len(g.nodes())):\n",
      "    #actual_level = i branching_factor**level\n",
      "    #level_pop =\n",
      "    #j = int(np.ceil(i/branching_factor))\n",
      "    \n",
      "    #j = actual_level(i, branching_factor)\n",
      "    #g.node[i]['j'] = j\n",
      "    #g.node[i]['c'] = np.random.uniform(0,1)\n",
      "    #g.node[i]['u'] = umbral(j, 0.9)"
     ],
     "language": "python",
     "metadata": {},
<<<<<<< HEAD
     "outputs": [],
     "prompt_number": 65
=======
     "outputs": []
>>>>>>> b7845a263364fbf1ea1f1517ea2f4c57d5ff79e1
    },
    {
     "cell_type": "code",
     "collapsed": false,
     "input": [
      "g.nodes(data=True)"
     ],
     "language": "python",
     "metadata": {},
<<<<<<< HEAD
     "outputs": [
      {
       "metadata": {},
       "output_type": "pyout",
       "prompt_number": 66,
       "text": [
        "[(0, {'n': [j: 0.0, c: 0.331148345085, u: 0.9]}),\n",
        " (1, {'n': [j: 1.0, c: 0.894964295874, u: 0.633333333333]}),\n",
        " (2, {'n': [j: 1.0, c: 0.259933744647, u: 0.633333333333]}),\n",
        " (3, {'n': [j: 1.0, c: 0.954049384504, u: 0.633333333333]}),\n",
        " (4, {'n': [j: 2.0, c: 0.216168605676, u: 0.366666666667]}),\n",
        " (5, {'n': [j: 2.0, c: 0.42839622881, u: 0.366666666667]}),\n",
        " (6, {'n': [j: 2.0, c: 0.0959379267618, u: 0.366666666667]}),\n",
        " (7, {'n': [j: 2.0, c: 0.167003648409, u: 0.366666666667]}),\n",
        " (8, {'n': [j: 2.0, c: 0.770251313436, u: 0.366666666667]}),\n",
        " (9, {'n': [j: 2.0, c: 0.797222928971, u: 0.366666666667]}),\n",
        " (10, {'n': [j: 2.0, c: 0.526810970137, u: 0.366666666667]}),\n",
        " (11, {'n': [j: 2.0, c: 0.822721484276, u: 0.366666666667]}),\n",
        " (12, {'n': [j: 2.0, c: 0.878388900684, u: 0.366666666667]}),\n",
        " (13, {'n': [j: 3.0, c: 0.382175167259, u: 0.1]}),\n",
        " (14, {'n': [j: 3.0, c: 0.75511774582, u: 0.1]}),\n",
        " (15, {'n': [j: 3.0, c: 0.775910937801, u: 0.1]}),\n",
        " (16, {'n': [j: 3.0, c: 0.323257767049, u: 0.1]}),\n",
        " (17, {'n': [j: 3.0, c: 0.647410724029, u: 0.1]}),\n",
        " (18, {'n': [j: 3.0, c: 0.390652644995, u: 0.1]}),\n",
        " (19, {'n': [j: 3.0, c: 0.425527521412, u: 0.1]}),\n",
        " (20, {'n': [j: 3.0, c: 0.618139359704, u: 0.1]}),\n",
        " (21, {'n': [j: 3.0, c: 0.150003346224, u: 0.1]}),\n",
        " (22, {'n': [j: 3.0, c: 0.567937211119, u: 0.1]}),\n",
        " (23, {'n': [j: 3.0, c: 0.887904433393, u: 0.1]}),\n",
        " (24, {'n': [j: 3.0, c: 0.171389506359, u: 0.1]}),\n",
        " (25, {'n': [j: 3.0, c: 0.767841544381, u: 0.1]}),\n",
        " (26, {'n': [j: 3.0, c: 0.647426219349, u: 0.1]}),\n",
        " (27, {'n': [j: 3.0, c: 0.825908114978, u: 0.1]}),\n",
        " (28, {'n': [j: 3.0, c: 0.570650927647, u: 0.1]}),\n",
        " (29, {'n': [j: 3.0, c: 0.810884810572, u: 0.1]}),\n",
        " (30, {'n': [j: 3.0, c: 0.276128369118, u: 0.1]}),\n",
        " (31, {'n': [j: 3.0, c: 0.712788368026, u: 0.1]}),\n",
        " (32, {'n': [j: 3.0, c: 0.88077622678, u: 0.1]}),\n",
        " (33, {'n': [j: 3.0, c: 0.702606993327, u: 0.1]}),\n",
        " (34, {'n': [j: 3.0, c: 0.803702571078, u: 0.1]}),\n",
        " (35, {'n': [j: 3.0, c: 0.013934389016, u: 0.1]}),\n",
        " (36, {'n': [j: 3.0, c: 0.685887908658, u: 0.1]}),\n",
        " (37, {'n': [j: 3.0, c: 0.807848945916, u: 0.1]}),\n",
        " (38, {'n': [j: 3.0, c: 0.581960539776, u: 0.1]}),\n",
        " (39, {'n': [j: 3.0, c: 0.616815068657, u: 0.1]})]"
       ]
      }
     ],
     "prompt_number": 66
    },
    {
     "cell_type": "code",
     "collapsed": false,
     "input": [
      "print g.node[0]['n']"
     ],
     "language": "python",
     "metadata": {},
     "outputs": [
      {
       "output_type": "stream",
       "stream": "stdout",
       "text": [
        "[j: 0.0, c: 0.331148345085, u: 0.9]\n"
       ]
      }
     ],
     "prompt_number": 67
=======
     "outputs": []
>>>>>>> b7845a263364fbf1ea1f1517ea2f4c57d5ff79e1
    },
    {
     "cell_type": "code",
     "collapsed": false,
     "input": [
      "def soborno():\n",
      "    nodo = np.random.choice(range(len(g.nodes())))\n",
      "    \n",
      "    "
     ],
     "language": "python",
     "metadata": {},
     "outputs": [],
     "prompt_number": 57
    },
    {
     "cell_type": "code",
     "collapsed": false,
     "input": [
      "nx."
     ],
     "language": "python",
     "metadata": {},
     "outputs": [],
     "prompt_number": 15
    },
    {
     "cell_type": "code",
     "collapsed": false,
     "input": [],
     "language": "python",
     "metadata": {},
     "outputs": []
    }
   ],
   "metadata": {}
  }
 ]
}