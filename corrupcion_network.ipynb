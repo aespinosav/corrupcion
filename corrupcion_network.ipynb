{
 "metadata": {
  "name": ""
 },
 "nbformat": 3,
 "nbformat_minor": 0,
 "worksheets": [
  {
   "cells": [
    {
     "cell_type": "code",
     "collapsed": false,
     "input": [
      "import numpy as np\n",
      "import networkx as nx\n",
      "import matplotlib.pyplot as plt\n",
      "from pylab import *\n",
      "%matplotlib inline "
     ],
     "language": "python",
     "metadata": {},
     "outputs": [],
     "prompt_number": 1
    },
    {
     "cell_type": "code",
     "collapsed": false,
     "input": [
      "branching_factor = 3.0\n",
      "height = 3.0"
     ],
     "language": "python",
     "metadata": {},
     "outputs": [],
     "prompt_number": 2
    },
    {
     "cell_type": "code",
     "collapsed": false,
     "input": [
      "g = nx.balanced_tree(int(branching_factor), int(height))"
     ],
     "language": "python",
     "metadata": {},
     "outputs": [],
     "prompt_number": 3
    },
    {
     "cell_type": "code",
     "collapsed": false,
     "input": [
      "g2 = nx.DiGraph(g)"
     ],
     "language": "python",
     "metadata": {},
     "outputs": [],
     "prompt_number": 4
    },
    {
     "cell_type": "code",
     "collapsed": false,
     "input": [
      "A = nx.adj_matrix(g2)"
     ],
     "language": "python",
     "metadata": {},
     "outputs": [],
     "prompt_number": 5
    },
    {
     "cell_type": "code",
     "collapsed": false,
     "input": [
      "for i in range(len(A)):\n",
      "    for j in range(len(A)):\n",
      "        if i > j:\n",
      "            A[i,j] = 0"
     ],
     "language": "python",
     "metadata": {},
     "outputs": [],
     "prompt_number": 6
    },
    {
     "cell_type": "code",
     "collapsed": false,
     "input": [
      "print A"
     ],
     "language": "python",
     "metadata": {},
     "outputs": [
      {
       "output_type": "stream",
       "stream": "stdout",
       "text": [
        "[[ 0.  1.  1. ...,  0.  0.  0.]\n",
        " [ 0.  0.  0. ...,  0.  0.  0.]\n",
        " [ 0.  0.  0. ...,  0.  0.  0.]\n",
        " ..., \n",
        " [ 0.  0.  0. ...,  0.  0.  0.]\n",
        " [ 0.  0.  0. ...,  0.  0.  0.]\n",
        " [ 0.  0.  0. ...,  0.  0.  0.]]\n"
       ]
      }
     ],
     "prompt_number": 7
    },
    {
     "cell_type": "code",
     "collapsed": false,
     "input": [
      "g = nx.DiGraph(A)"
     ],
     "language": "python",
     "metadata": {},
     "outputs": [],
     "prompt_number": 8
    },
    {
     "cell_type": "code",
     "collapsed": false,
     "input": [
      "def actual_level(index, branching):\n",
      "    l = np.floor(np.log(index*(branching -1) +1) / np.log(branching))\n",
      "    return l"
     ],
     "language": "python",
     "metadata": {},
     "outputs": [],
     "prompt_number": 9
    },
    {
     "cell_type": "code",
     "collapsed": false,
     "input": [
      "def umbral(j, u_max):\n",
      "    global height    \n",
      "    u = -j*(2*u_max -1)/float(height) + u_max\n",
      "    return u"
     ],
     "language": "python",
     "metadata": {},
     "outputs": [],
     "prompt_number": 10
    },
    {
     "cell_type": "code",
     "collapsed": false,
     "input": [
      "for i in range(len(g.nodes())):\n",
      "    #actual_level = i branching_factor**level\n",
      "    #level_pop =\n",
      "    #j = int(np.ceil(i/branching_factor))\n",
      "    \n",
      "    j = actual_level(i, branching_factor)\n",
      "    g.node[i]['j'] = j\n",
      "    g.node[i]['c'] = np.random.uniform(0,1)\n",
      "    g.node[i]['u'] = umbral(j, 0.9)"
     ],
     "language": "python",
     "metadata": {},
     "outputs": [],
     "prompt_number": 11
    },
    {
     "cell_type": "code",
     "collapsed": false,
     "input": [
      "g.nodes(data=True)"
     ],
     "language": "python",
     "metadata": {},
     "outputs": [
      {
       "metadata": {},
       "output_type": "pyout",
       "prompt_number": 12,
       "text": [
        "[(0, {'c': 0.30090294432373976, 'j': 0.0, 'u': 0.90000000000000002}),\n",
        " (1, {'c': 0.6236991245714054, 'j': 1.0, 'u': 0.6333333333333333}),\n",
        " (2, {'c': 0.6468251365793889, 'j': 1.0, 'u': 0.6333333333333333}),\n",
        " (3, {'c': 0.7813797783194949, 'j': 1.0, 'u': 0.6333333333333333}),\n",
        " (4, {'c': 0.7869214761176715, 'j': 2.0, 'u': 0.3666666666666667}),\n",
        " (5, {'c': 0.863559595984659, 'j': 2.0, 'u': 0.3666666666666667}),\n",
        " (6, {'c': 0.5726058678639708, 'j': 2.0, 'u': 0.3666666666666667}),\n",
        " (7, {'c': 0.2052931156117479, 'j': 2.0, 'u': 0.3666666666666667}),\n",
        " (8, {'c': 0.6917483675852046, 'j': 2.0, 'u': 0.3666666666666667}),\n",
        " (9, {'c': 0.8754798280684706, 'j': 2.0, 'u': 0.3666666666666667}),\n",
        " (10, {'c': 0.12524029614332333, 'j': 2.0, 'u': 0.3666666666666667}),\n",
        " (11, {'c': 0.690317693680989, 'j': 2.0, 'u': 0.3666666666666667}),\n",
        " (12, {'c': 0.6609291523406852, 'j': 2.0, 'u': 0.3666666666666667}),\n",
        " (13, {'c': 0.4775164633924628, 'j': 3.0, 'u': 0.099999999999999867}),\n",
        " (14, {'c': 0.6035873726584318, 'j': 3.0, 'u': 0.099999999999999867}),\n",
        " (15, {'c': 0.5250937310736294, 'j': 3.0, 'u': 0.099999999999999867}),\n",
        " (16, {'c': 0.10888530809363062, 'j': 3.0, 'u': 0.099999999999999867}),\n",
        " (17, {'c': 0.6611977855288037, 'j': 3.0, 'u': 0.099999999999999867}),\n",
        " (18, {'c': 0.5943345485907031, 'j': 3.0, 'u': 0.099999999999999867}),\n",
        " (19, {'c': 0.8936284008041422, 'j': 3.0, 'u': 0.099999999999999867}),\n",
        " (20, {'c': 0.11604248628829361, 'j': 3.0, 'u': 0.099999999999999867}),\n",
        " (21, {'c': 0.1404623229580393, 'j': 3.0, 'u': 0.099999999999999867}),\n",
        " (22, {'c': 0.8998716116472162, 'j': 3.0, 'u': 0.099999999999999867}),\n",
        " (23, {'c': 0.714548951144751, 'j': 3.0, 'u': 0.099999999999999867}),\n",
        " (24, {'c': 0.7099455940795408, 'j': 3.0, 'u': 0.099999999999999867}),\n",
        " (25, {'c': 0.0644334756698326, 'j': 3.0, 'u': 0.099999999999999867}),\n",
        " (26, {'c': 0.023573207500875326, 'j': 3.0, 'u': 0.099999999999999867}),\n",
        " (27, {'c': 0.9792513144079811, 'j': 3.0, 'u': 0.099999999999999867}),\n",
        " (28, {'c': 0.29935503318344814, 'j': 3.0, 'u': 0.099999999999999867}),\n",
        " (29, {'c': 0.8966103548278365, 'j': 3.0, 'u': 0.099999999999999867}),\n",
        " (30, {'c': 0.1952965032219619, 'j': 3.0, 'u': 0.099999999999999867}),\n",
        " (31, {'c': 0.4458720288374127, 'j': 3.0, 'u': 0.099999999999999867}),\n",
        " (32, {'c': 0.6992565365464452, 'j': 3.0, 'u': 0.099999999999999867}),\n",
        " (33, {'c': 0.0683428269820694, 'j': 3.0, 'u': 0.099999999999999867}),\n",
        " (34, {'c': 0.25275582760051596, 'j': 3.0, 'u': 0.099999999999999867}),\n",
        " (35, {'c': 0.09727564023376833, 'j': 3.0, 'u': 0.099999999999999867}),\n",
        " (36, {'c': 0.5294965658487445, 'j': 3.0, 'u': 0.099999999999999867}),\n",
        " (37, {'c': 0.2255328709060923, 'j': 3.0, 'u': 0.099999999999999867}),\n",
        " (38, {'c': 0.16427017173535507, 'j': 3.0, 'u': 0.099999999999999867}),\n",
        " (39, {'c': 0.14012112049530334, 'j': 3.0, 'u': 0.099999999999999867})]"
       ]
      }
     ],
     "prompt_number": 12
    },
    {
     "cell_type": "code",
     "collapsed": false,
     "input": [
      "def soborno():\n",
      "    nodo = np.random.choice(range(len(g.nodes()))\n",
      "    \n",
      "    "
     ],
     "language": "python",
     "metadata": {},
     "outputs": []
    }
   ],
   "metadata": {}
  }
 ]
}